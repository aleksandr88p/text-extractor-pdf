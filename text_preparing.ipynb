{
 "cells": [
  {
   "cell_type": "markdown",
   "metadata": {},
   "source": [
    "# начало работы\n",
    "    запустить ячейку и указать input file and optput file "
   ]
  },
  {
   "cell_type": "code",
   "execution_count": 1,
   "metadata": {},
   "outputs": [
    {
     "name": "stdout",
     "output_type": "stream",
     "text": [
      "Текст сохранен в файл: extracted_textold.txt\n"
     ]
    }
   ],
   "source": [
    "import fitz\n",
    "\n",
    "def extract_and_save_text(pdf_path, output_path):\n",
    "    \"\"\"\n",
    "    Извлекает текст из PDF и сохраняет его в текстовый файл.\n",
    "    Каждая страница отделяется маркером.\n",
    "    \"\"\"\n",
    "    pdf_doc = fitz.open(pdf_path)\n",
    "    \n",
    "    with open(output_path, 'w', encoding='utf-8') as f:\n",
    "        for page_num, page in enumerate(pdf_doc, 1):\n",
    "            text = page.get_text()\n",
    "            # Записываем номер страницы и её содержимое\n",
    "            f.write(f\"\\n=== Страница {page_num} ===\\n\")\n",
    "            f.write(text)\n",
    "            f.write(\"\\n\")\n",
    "    \n",
    "    pdf_doc.close()\n",
    "    print(f\"Текст сохранен в файл: {output_path}\")\n",
    "\n",
    "pdf_path = \"codigo_penal.pdf\"\n",
    "output_path = \"extracted_textold.txt\"\n",
    "extract_and_save_text(pdf_path, output_path) "
   ]
  },
  {
   "cell_type": "markdown",
   "metadata": {},
   "source": [
    "# ручное удаление \n",
    "    если нужно найти и удалить вручную начало(введение, оглавление и тд) и конец\n",
    "    и оставить только текст который будет использован"
   ]
  },
  {
   "cell_type": "markdown",
   "metadata": {},
   "source": [
    "# удалить разделители страниц === страница ==="
   ]
  },
  {
   "cell_type": "code",
   "execution_count": 2,
   "metadata": {},
   "outputs": [
    {
     "name": "stdout",
     "output_type": "stream",
     "text": [
      "Текст очищен и сохранен в cleaned_text.txt\n"
     ]
    }
   ],
   "source": [
    "import re\n",
    "\n",
    "def clean_text_file(input_file, output_file):\n",
    "    \"\"\"\n",
    "    Очищает текстовый файл от маркеров страниц и номеров страниц.\n",
    "    \n",
    "    Args:\n",
    "        input_file (str): Путь к входному файлу\n",
    "        output_file (str): Путь к выходному файлу\n",
    "    \"\"\"\n",
    "    with open(input_file, 'r', encoding='utf-8') as f:\n",
    "        content = f.read()\n",
    "    \n",
    "    # Удаляем маркеры страниц (=== Страница X ===)\n",
    "    content = re.sub(r'\\n=== Страница \\d+ ===\\n', '\\n', content)\n",
    "    \n",
    "    # Удаляем одиночные номера страниц\n",
    "    content = re.sub(r'\\n\\d+\\n(?=\\w)', '\\n', content)\n",
    "    \n",
    "    # Убираем множественные пустые строки\n",
    "    content = re.sub(r'\\n\\s*\\n', '\\n\\n', content)\n",
    "    \n",
    "    with open(output_file, 'w', encoding='utf-8') as f:\n",
    "        f.write(content.strip())\n",
    "\n",
    "\n",
    "input_file = \"extracted_text.txt\"\n",
    "output_file = \"cleaned_text.txt\"\n",
    "clean_text_file(input_file, output_file)\n",
    "print(f\"Текст очищен и сохранен в {output_file}\") "
   ]
  },
  {
   "cell_type": "code",
   "execution_count": null,
   "metadata": {},
   "outputs": [],
   "source": []
  }
 ],
 "metadata": {
  "kernelspec": {
   "display_name": "venv",
   "language": "python",
   "name": "python3"
  },
  "language_info": {
   "codemirror_mode": {
    "name": "ipython",
    "version": 3
   },
   "file_extension": ".py",
   "mimetype": "text/x-python",
   "name": "python",
   "nbconvert_exporter": "python",
   "pygments_lexer": "ipython3",
   "version": "3.11.7"
  }
 },
 "nbformat": 4,
 "nbformat_minor": 2
}
