{
 "cells": [
  {
   "cell_type": "code",
   "execution_count": null,
   "metadata": {},
   "outputs": [],
   "source": [
    "from collections import defaultdict\n",
    "import json\n",
    "\n",
    "\n",
    "def group_articles_by_capitulo(articles: list) -> dict:\n",
    "    grouped = defaultdict(lambda: {\n",
    "        \"libro\": \"\",\n",
    "        \"titulo\": \"\",\n",
    "        \"capitulo\": \"\",\n",
    "        \"articles\": [],\n",
    "        \"article_numbers\": [],\n",
    "        \"full_text\": \"\"\n",
    "    })\n",
    "\n",
    "    for i, item in enumerate(articles):\n",
    "        print(f\"Processing article {i+1} of {len(articles)}\")\n",
    "        key = f\"{item['libro']} | {item['titulo']} | {item['capitulo']}\"\n",
    "        grouped[key][\"libro\"] = item[\"libro\"]\n",
    "        grouped[key][\"titulo\"] = item[\"titulo\"]\n",
    "        grouped[key][\"capitulo\"] = item[\"capitulo\"]\n",
    "        grouped[key][\"articles\"].append(item[\"text\"])\n",
    "        grouped[key][\"article_numbers\"].append(item[\"article\"])\n",
    "\n",
    "    # Собираем полный текст\n",
    "    for group in grouped.values():\n",
    "        group[\"full_text\"] = \"\\n\\n\".join(group[\"articles\"])\n",
    "\n",
    "    return dict(grouped)\n",
    "\n",
    "\n"
   ]
  }
 ],
 "metadata": {
  "kernelspec": {
   "display_name": "venv",
   "language": "python",
   "name": "python3"
  },
  "language_info": {
   "codemirror_mode": {
    "name": "ipython",
    "version": 3
   },
   "file_extension": ".py",
   "mimetype": "text/x-python",
   "name": "python",
   "nbconvert_exporter": "python",
   "pygments_lexer": "ipython3",
   "version": "3.12.3"
  }
 },
 "nbformat": 4,
 "nbformat_minor": 2
}
